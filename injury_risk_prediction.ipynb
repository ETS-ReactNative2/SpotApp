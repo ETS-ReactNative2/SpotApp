{
  "nbformat": 4,
  "nbformat_minor": 0,
  "metadata": {
    "colab": {
      "name": "injury_risk_prediction.ipynb",
      "provenance": [],
      "collapsed_sections": [],
      "authorship_tag": "ABX9TyNUoYPtSKf52BwvPRoZbmWk",
      "include_colab_link": true
    },
    "kernelspec": {
      "name": "python3",
      "display_name": "Python 3"
    },
    "language_info": {
      "name": "python"
    }
  },
  "cells": [
    {
      "cell_type": "markdown",
      "metadata": {
        "id": "view-in-github",
        "colab_type": "text"
      },
      "source": [
        "<a href=\"https://colab.research.google.com/github/csepulveda7/SpotApp/blob/main/injury_risk_prediction.ipynb\" target=\"_parent\"><img src=\"https://colab.research.google.com/assets/colab-badge.svg\" alt=\"Open In Colab\"/></a>"
      ]
    },
    {
      "cell_type": "code",
      "execution_count": 1,
      "metadata": {
        "colab": {
          "base_uri": "https://localhost:8080/"
        },
        "id": "QgPP-7Tnvel2",
        "outputId": "fe604a9a-798c-41ab-cb37-1937a4d07482"
      },
      "outputs": [
        {
          "output_type": "stream",
          "name": "stdout",
          "text": [
            "Mounted at /content/drive\n"
          ]
        },
        {
          "output_type": "stream",
          "name": "stderr",
          "text": [
            "/usr/local/lib/python3.7/dist-packages/psycopg2/__init__.py:144: UserWarning: The psycopg2 wheel package will be renamed from release 2.8; in order to keep installing from binary please use \"pip install psycopg2-binary\" instead. For details see: <http://initd.org/psycopg/docs/install.html#binary-install-from-pypi>.\n",
            "  \"\"\")\n"
          ]
        }
      ],
      "source": [
        "#import all necessary libraries and tools\n",
        "import pandas as pd\n",
        "import datetime\n",
        "import psycopg2\n",
        "from datetime import date\n",
        "import numpy as np\n",
        "\n",
        "# Connecting to the database\n",
        "connection = psycopg2.connect(user=\"panjfsdgbbpqjp\",\n",
        "                          password=\"e82392fdcc0e809c9ee02a9459d9da3e0e414094bdbc8f88acb69d3f7686da5a\",\n",
        "                          host=\"ec2-52-44-31-100.compute-1.amazonaws.com\",\n",
        "                          port=\"5432\",\n",
        "                          database=\"d2itj4h57p7v0h\")\n",
        "\n",
        "# Retreive all the readiness data from ff90\n",
        "cursor = connection.cursor()\n",
        "schema = \"\\\"UCF_Women_Soccer_DEV\\\"\"\n",
        "\n",
        "cursor.execute('SELECT * FROM {}.ff90_training_load'.format(schema)) \n",
        "training_load =  pd.DataFrame(cursor.fetchall())\n",
        "cursor.execute('SELECT * FROM {}.ff90_soreness'.format(schema)) \n",
        "soreness =  pd.DataFrame(cursor.fetchall())\n",
        "cursor.execute('SELECT * FROM {}.ff90_readiness'.format(schema)) \n",
        "readiness =  pd.DataFrame(cursor.fetchall())\n",
        "cursor.execute('SELECT * FROM {}.ff90_hydration'.format(schema)) \n",
        "hydration = pd.DataFrame(cursor.fetchall())\n",
        "cursor.execute('SELECT * FROM {}.ff90_notes'.format(schema)) \n",
        "notes =  pd.DataFrame(cursor.fetchall())\n",
        "\n",
        "# Retreive all the data from Polar\n",
        "cursor.execute('SELECT * FROM {}.polar_session'.format(schema)) \n",
        "polar_data = pd.DataFrame(cursor.fetchall())\n",
        "polar_col_names = [desc[0] for desc in cursor.description]\n",
        "\n",
        "# Retreive all the data from InStat\n",
        "cursor.execute('SELECT * FROM {}.instatdata'.format(schema))    \n",
        "instat_data  = pd.DataFrame(cursor.fetchall())\n",
        "instat_col_names = [desc[0] for desc in cursor.description]\n",
        "\n",
        "# Replace column numbers with names\n",
        "training_load.rename(columns = {0:'Date', 1:'Time', 2:'Last', 3:'First', 4:'Rating', 5:'Duration(min)', 6:'Load', 7:'Category', 8:'Team'}, inplace = True)\n",
        "soreness.rename(columns = {0:'Date', 1: 'Time', 2: 'Last', 3: 'First', 4: 'Muscle Group', 5: 'Soreness level', 6: 'Soreness Label'}, inplace = True)\n",
        "readiness.rename(columns = {0:'Date', 1:'Time', 2:'Last', 3:'First', 4:'Score', 5:'Fatigue', 6:'Mood', 7:'Soreness', 8:'Stress', 9:'Sleep Quality', 10:'Sleep Hours'}, inplace = True)\n",
        "hydration.rename(columns = {0:'Date', 1: 'Time', 2: 'Last', 3: 'First', 4: 'Hydration Level', 5: 'Hydration Label'}, inplace = True)\n",
        "notes.rename(columns = {0:'Date', 1:'Time',2: 'Last', 3:'First', 4:'Category',5:'Content'}, inplace = True)\n",
        "polar_data.columns = polar_col_names\n",
        "instat_data.columns = instat_col_names"
      ]
    },
    {
      "cell_type": "code",
      "source": [
        "(training_load.head(3).style)"
      ],
      "metadata": {
        "colab": {
          "base_uri": "https://localhost:8080/",
          "height": 143
        },
        "id": "2VBCfY9GwEA3",
        "outputId": "880bc6d2-d241-42b8-8e8c-4c19fccb47c3"
      },
      "execution_count": 18,
      "outputs": [
        {
          "output_type": "execute_result",
          "data": {
            "text/html": [
              "<style type=\"text/css\">\n",
              "</style>\n",
              "<table id=\"T_245c8_\" class=\"dataframe\">\n",
              "  <thead>\n",
              "    <tr>\n",
              "      <th class=\"blank level0\" >&nbsp;</th>\n",
              "      <th class=\"col_heading level0 col0\" >Date</th>\n",
              "      <th class=\"col_heading level0 col1\" >Time</th>\n",
              "      <th class=\"col_heading level0 col2\" >Last</th>\n",
              "      <th class=\"col_heading level0 col3\" >First</th>\n",
              "      <th class=\"col_heading level0 col4\" >Rating</th>\n",
              "      <th class=\"col_heading level0 col5\" >Duration(min)</th>\n",
              "      <th class=\"col_heading level0 col6\" >Load</th>\n",
              "      <th class=\"col_heading level0 col7\" >Category</th>\n",
              "      <th class=\"col_heading level0 col8\" >Team</th>\n",
              "    </tr>\n",
              "  </thead>\n",
              "  <tbody>\n",
              "    <tr>\n",
              "      <th id=\"T_245c8_level0_row0\" class=\"row_heading level0 row0\" >0</th>\n",
              "      <td id=\"T_245c8_row0_col0\" class=\"data row0 col0\" >2020-08-07</td>\n",
              "      <td id=\"T_245c8_row0_col1\" class=\"data row0 col1\" >15:46:00</td>\n",
              "      <td id=\"T_245c8_row0_col2\" class=\"data row0 col2\" >Agin</td>\n",
              "      <td id=\"T_245c8_row0_col3\" class=\"data row0 col3\" >Emma</td>\n",
              "      <td id=\"T_245c8_row0_col4\" class=\"data row0 col4\" >3</td>\n",
              "      <td id=\"T_245c8_row0_col5\" class=\"data row0 col5\" >19</td>\n",
              "      <td id=\"T_245c8_row0_col6\" class=\"data row0 col6\" >57</td>\n",
              "      <td id=\"T_245c8_row0_col7\" class=\"data row0 col7\" >Recovery</td>\n",
              "      <td id=\"T_245c8_row0_col8\" class=\"data row0 col8\" >Individual</td>\n",
              "    </tr>\n",
              "    <tr>\n",
              "      <th id=\"T_245c8_level0_row1\" class=\"row_heading level0 row1\" >1</th>\n",
              "      <td id=\"T_245c8_row1_col0\" class=\"data row1 col0\" >2020-08-07</td>\n",
              "      <td id=\"T_245c8_row1_col1\" class=\"data row1 col1\" >15:30:00</td>\n",
              "      <td id=\"T_245c8_row1_col2\" class=\"data row1 col2\" >Anderson</td>\n",
              "      <td id=\"T_245c8_row1_col3\" class=\"data row1 col3\" >Brooke</td>\n",
              "      <td id=\"T_245c8_row1_col4\" class=\"data row1 col4\" >9</td>\n",
              "      <td id=\"T_245c8_row1_col5\" class=\"data row1 col5\" >60</td>\n",
              "      <td id=\"T_245c8_row1_col6\" class=\"data row1 col6\" >540</td>\n",
              "      <td id=\"T_245c8_row1_col7\" class=\"data row1 col7\" >Team Training</td>\n",
              "      <td id=\"T_245c8_row1_col8\" class=\"data row1 col8\" >UCF Knights</td>\n",
              "    </tr>\n",
              "    <tr>\n",
              "      <th id=\"T_245c8_level0_row2\" class=\"row_heading level0 row2\" >2</th>\n",
              "      <td id=\"T_245c8_row2_col0\" class=\"data row2 col0\" >2020-08-07</td>\n",
              "      <td id=\"T_245c8_row2_col1\" class=\"data row2 col1\" >15:47:00</td>\n",
              "      <td id=\"T_245c8_row2_col2\" class=\"data row2 col2\" >Barkett</td>\n",
              "      <td id=\"T_245c8_row2_col3\" class=\"data row2 col3\" >Jade</td>\n",
              "      <td id=\"T_245c8_row2_col4\" class=\"data row2 col4\" >2</td>\n",
              "      <td id=\"T_245c8_row2_col5\" class=\"data row2 col5\" >19</td>\n",
              "      <td id=\"T_245c8_row2_col6\" class=\"data row2 col6\" >38</td>\n",
              "      <td id=\"T_245c8_row2_col7\" class=\"data row2 col7\" >Recovery</td>\n",
              "      <td id=\"T_245c8_row2_col8\" class=\"data row2 col8\" >Individual</td>\n",
              "    </tr>\n",
              "  </tbody>\n",
              "</table>\n"
            ],
            "text/plain": [
              "<pandas.io.formats.style.Styler at 0x7f1e23271090>"
            ]
          },
          "metadata": {},
          "execution_count": 18
        }
      ]
    },
    {
      "cell_type": "code",
      "source": [
        "(training_load.shape)"
      ],
      "metadata": {
        "colab": {
          "base_uri": "https://localhost:8080/"
        },
        "id": "K3JrJe-Zx0zP",
        "outputId": "3bd2b70a-2828-403d-e129-0b4cfe8bab67"
      },
      "execution_count": 19,
      "outputs": [
        {
          "output_type": "execute_result",
          "data": {
            "text/plain": [
              "(22885, 9)"
            ]
          },
          "metadata": {},
          "execution_count": 19
        }
      ]
    },
    {
      "cell_type": "code",
      "source": [
        "readiness.head(3)"
      ],
      "metadata": {
        "colab": {
          "base_uri": "https://localhost:8080/",
          "height": 143
        },
        "id": "XLhejJ7WwJc2",
        "outputId": "a9ad10a1-55c9-4ec9-de5e-f67e17e63740"
      },
      "execution_count": 4,
      "outputs": [
        {
          "output_type": "execute_result",
          "data": {
            "text/html": [
              "\n",
              "  <div id=\"df-d201bb61-ab2f-4d6f-80e8-75972c1d8209\">\n",
              "    <div class=\"colab-df-container\">\n",
              "      <div>\n",
              "<style scoped>\n",
              "    .dataframe tbody tr th:only-of-type {\n",
              "        vertical-align: middle;\n",
              "    }\n",
              "\n",
              "    .dataframe tbody tr th {\n",
              "        vertical-align: top;\n",
              "    }\n",
              "\n",
              "    .dataframe thead th {\n",
              "        text-align: right;\n",
              "    }\n",
              "</style>\n",
              "<table border=\"1\" class=\"dataframe\">\n",
              "  <thead>\n",
              "    <tr style=\"text-align: right;\">\n",
              "      <th></th>\n",
              "      <th>Date</th>\n",
              "      <th>Time</th>\n",
              "      <th>Last</th>\n",
              "      <th>First</th>\n",
              "      <th>Score</th>\n",
              "      <th>Fatigue</th>\n",
              "      <th>Mood</th>\n",
              "      <th>Soreness</th>\n",
              "      <th>Stress</th>\n",
              "      <th>Sleep Quality</th>\n",
              "      <th>Sleep Hours</th>\n",
              "    </tr>\n",
              "  </thead>\n",
              "  <tbody>\n",
              "    <tr>\n",
              "      <th>0</th>\n",
              "      <td>2020-08-07</td>\n",
              "      <td>12:34:00</td>\n",
              "      <td>Agin</td>\n",
              "      <td>Emma</td>\n",
              "      <td>94.00</td>\n",
              "      <td>3</td>\n",
              "      <td>3</td>\n",
              "      <td>0</td>\n",
              "      <td>3</td>\n",
              "      <td>3</td>\n",
              "      <td>9.0</td>\n",
              "    </tr>\n",
              "    <tr>\n",
              "      <th>1</th>\n",
              "      <td>2020-08-07</td>\n",
              "      <td>12:10:00</td>\n",
              "      <td>Anderson</td>\n",
              "      <td>Brooke</td>\n",
              "      <td>95.75</td>\n",
              "      <td>2</td>\n",
              "      <td>2</td>\n",
              "      <td>2</td>\n",
              "      <td>2</td>\n",
              "      <td>2</td>\n",
              "      <td>8.0</td>\n",
              "    </tr>\n",
              "    <tr>\n",
              "      <th>2</th>\n",
              "      <td>2020-08-07</td>\n",
              "      <td>12:54:00</td>\n",
              "      <td>Barkett</td>\n",
              "      <td>Jade</td>\n",
              "      <td>69.34</td>\n",
              "      <td>-1</td>\n",
              "      <td>1</td>\n",
              "      <td>-1</td>\n",
              "      <td>1</td>\n",
              "      <td>1</td>\n",
              "      <td>7.0</td>\n",
              "    </tr>\n",
              "  </tbody>\n",
              "</table>\n",
              "</div>\n",
              "      <button class=\"colab-df-convert\" onclick=\"convertToInteractive('df-d201bb61-ab2f-4d6f-80e8-75972c1d8209')\"\n",
              "              title=\"Convert this dataframe to an interactive table.\"\n",
              "              style=\"display:none;\">\n",
              "        \n",
              "  <svg xmlns=\"http://www.w3.org/2000/svg\" height=\"24px\"viewBox=\"0 0 24 24\"\n",
              "       width=\"24px\">\n",
              "    <path d=\"M0 0h24v24H0V0z\" fill=\"none\"/>\n",
              "    <path d=\"M18.56 5.44l.94 2.06.94-2.06 2.06-.94-2.06-.94-.94-2.06-.94 2.06-2.06.94zm-11 1L8.5 8.5l.94-2.06 2.06-.94-2.06-.94L8.5 2.5l-.94 2.06-2.06.94zm10 10l.94 2.06.94-2.06 2.06-.94-2.06-.94-.94-2.06-.94 2.06-2.06.94z\"/><path d=\"M17.41 7.96l-1.37-1.37c-.4-.4-.92-.59-1.43-.59-.52 0-1.04.2-1.43.59L10.3 9.45l-7.72 7.72c-.78.78-.78 2.05 0 2.83L4 21.41c.39.39.9.59 1.41.59.51 0 1.02-.2 1.41-.59l7.78-7.78 2.81-2.81c.8-.78.8-2.07 0-2.86zM5.41 20L4 18.59l7.72-7.72 1.47 1.35L5.41 20z\"/>\n",
              "  </svg>\n",
              "      </button>\n",
              "      \n",
              "  <style>\n",
              "    .colab-df-container {\n",
              "      display:flex;\n",
              "      flex-wrap:wrap;\n",
              "      gap: 12px;\n",
              "    }\n",
              "\n",
              "    .colab-df-convert {\n",
              "      background-color: #E8F0FE;\n",
              "      border: none;\n",
              "      border-radius: 50%;\n",
              "      cursor: pointer;\n",
              "      display: none;\n",
              "      fill: #1967D2;\n",
              "      height: 32px;\n",
              "      padding: 0 0 0 0;\n",
              "      width: 32px;\n",
              "    }\n",
              "\n",
              "    .colab-df-convert:hover {\n",
              "      background-color: #E2EBFA;\n",
              "      box-shadow: 0px 1px 2px rgba(60, 64, 67, 0.3), 0px 1px 3px 1px rgba(60, 64, 67, 0.15);\n",
              "      fill: #174EA6;\n",
              "    }\n",
              "\n",
              "    [theme=dark] .colab-df-convert {\n",
              "      background-color: #3B4455;\n",
              "      fill: #D2E3FC;\n",
              "    }\n",
              "\n",
              "    [theme=dark] .colab-df-convert:hover {\n",
              "      background-color: #434B5C;\n",
              "      box-shadow: 0px 1px 3px 1px rgba(0, 0, 0, 0.15);\n",
              "      filter: drop-shadow(0px 1px 2px rgba(0, 0, 0, 0.3));\n",
              "      fill: #FFFFFF;\n",
              "    }\n",
              "  </style>\n",
              "\n",
              "      <script>\n",
              "        const buttonEl =\n",
              "          document.querySelector('#df-d201bb61-ab2f-4d6f-80e8-75972c1d8209 button.colab-df-convert');\n",
              "        buttonEl.style.display =\n",
              "          google.colab.kernel.accessAllowed ? 'block' : 'none';\n",
              "\n",
              "        async function convertToInteractive(key) {\n",
              "          const element = document.querySelector('#df-d201bb61-ab2f-4d6f-80e8-75972c1d8209');\n",
              "          const dataTable =\n",
              "            await google.colab.kernel.invokeFunction('convertToInteractive',\n",
              "                                                     [key], {});\n",
              "          if (!dataTable) return;\n",
              "\n",
              "          const docLinkHtml = 'Like what you see? Visit the ' +\n",
              "            '<a target=\"_blank\" href=https://colab.research.google.com/notebooks/data_table.ipynb>data table notebook</a>'\n",
              "            + ' to learn more about interactive tables.';\n",
              "          element.innerHTML = '';\n",
              "          dataTable['output_type'] = 'display_data';\n",
              "          await google.colab.output.renderOutput(dataTable, element);\n",
              "          const docLink = document.createElement('div');\n",
              "          docLink.innerHTML = docLinkHtml;\n",
              "          element.appendChild(docLink);\n",
              "        }\n",
              "      </script>\n",
              "    </div>\n",
              "  </div>\n",
              "  "
            ],
            "text/plain": [
              "         Date      Time      Last   First  Score  Fatigue  Mood  Soreness  \\\n",
              "0  2020-08-07  12:34:00      Agin    Emma  94.00        3     3         0   \n",
              "1  2020-08-07  12:10:00  Anderson  Brooke  95.75        2     2         2   \n",
              "2  2020-08-07  12:54:00   Barkett    Jade  69.34       -1     1        -1   \n",
              "\n",
              "   Stress  Sleep Quality Sleep Hours  \n",
              "0       3              3         9.0  \n",
              "1       2              2         8.0  \n",
              "2       1              1         7.0  "
            ]
          },
          "metadata": {},
          "execution_count": 4
        }
      ]
    },
    {
      "cell_type": "code",
      "source": [
        "readiness.shape"
      ],
      "metadata": {
        "colab": {
          "base_uri": "https://localhost:8080/"
        },
        "id": "AO-Ocz-qyr5N",
        "outputId": "fe2e56d3-fcf8-493f-c36c-42620ea0190f"
      },
      "execution_count": 20,
      "outputs": [
        {
          "output_type": "execute_result",
          "data": {
            "text/plain": [
              "(23939, 11)"
            ]
          },
          "metadata": {},
          "execution_count": 20
        }
      ]
    },
    {
      "cell_type": "code",
      "source": [
        "readiness['Date'].unique().shape"
      ],
      "metadata": {
        "colab": {
          "base_uri": "https://localhost:8080/"
        },
        "id": "DyY0mt6o0lFN",
        "outputId": "90141e76-cfcf-4e78-c1e5-ec897f732559"
      },
      "execution_count": 27,
      "outputs": [
        {
          "output_type": "execute_result",
          "data": {
            "text/plain": [
              "(1948,)"
            ]
          },
          "metadata": {},
          "execution_count": 27
        }
      ]
    },
    {
      "cell_type": "code",
      "source": [
        "hydration.head(3)"
      ],
      "metadata": {
        "colab": {
          "base_uri": "https://localhost:8080/",
          "height": 143
        },
        "id": "oHUGZ7KLwMQK",
        "outputId": "6bc627af-f76a-4d53-9da5-d170ec260a4c"
      },
      "execution_count": 5,
      "outputs": [
        {
          "output_type": "execute_result",
          "data": {
            "text/html": [
              "\n",
              "  <div id=\"df-9ded1925-e5e3-411e-b3d9-f40aaa2426d2\">\n",
              "    <div class=\"colab-df-container\">\n",
              "      <div>\n",
              "<style scoped>\n",
              "    .dataframe tbody tr th:only-of-type {\n",
              "        vertical-align: middle;\n",
              "    }\n",
              "\n",
              "    .dataframe tbody tr th {\n",
              "        vertical-align: top;\n",
              "    }\n",
              "\n",
              "    .dataframe thead th {\n",
              "        text-align: right;\n",
              "    }\n",
              "</style>\n",
              "<table border=\"1\" class=\"dataframe\">\n",
              "  <thead>\n",
              "    <tr style=\"text-align: right;\">\n",
              "      <th></th>\n",
              "      <th>Date</th>\n",
              "      <th>Time</th>\n",
              "      <th>Last</th>\n",
              "      <th>First</th>\n",
              "      <th>Hydration Level</th>\n",
              "      <th>Hydration Label</th>\n",
              "    </tr>\n",
              "  </thead>\n",
              "  <tbody>\n",
              "    <tr>\n",
              "      <th>0</th>\n",
              "      <td>2020-07-26</td>\n",
              "      <td>02:49:00</td>\n",
              "      <td>Agin</td>\n",
              "      <td>Emma</td>\n",
              "      <td>1</td>\n",
              "      <td>Hyper Hydrated</td>\n",
              "    </tr>\n",
              "    <tr>\n",
              "      <th>1</th>\n",
              "      <td>2020-07-25</td>\n",
              "      <td>03:42:00</td>\n",
              "      <td>Agin</td>\n",
              "      <td>Emma</td>\n",
              "      <td>1</td>\n",
              "      <td>Hyper Hydrated</td>\n",
              "    </tr>\n",
              "    <tr>\n",
              "      <th>2</th>\n",
              "      <td>2020-07-23</td>\n",
              "      <td>14:19:00</td>\n",
              "      <td>Agin</td>\n",
              "      <td>Emma</td>\n",
              "      <td>2</td>\n",
              "      <td>Well Hydrated</td>\n",
              "    </tr>\n",
              "  </tbody>\n",
              "</table>\n",
              "</div>\n",
              "      <button class=\"colab-df-convert\" onclick=\"convertToInteractive('df-9ded1925-e5e3-411e-b3d9-f40aaa2426d2')\"\n",
              "              title=\"Convert this dataframe to an interactive table.\"\n",
              "              style=\"display:none;\">\n",
              "        \n",
              "  <svg xmlns=\"http://www.w3.org/2000/svg\" height=\"24px\"viewBox=\"0 0 24 24\"\n",
              "       width=\"24px\">\n",
              "    <path d=\"M0 0h24v24H0V0z\" fill=\"none\"/>\n",
              "    <path d=\"M18.56 5.44l.94 2.06.94-2.06 2.06-.94-2.06-.94-.94-2.06-.94 2.06-2.06.94zm-11 1L8.5 8.5l.94-2.06 2.06-.94-2.06-.94L8.5 2.5l-.94 2.06-2.06.94zm10 10l.94 2.06.94-2.06 2.06-.94-2.06-.94-.94-2.06-.94 2.06-2.06.94z\"/><path d=\"M17.41 7.96l-1.37-1.37c-.4-.4-.92-.59-1.43-.59-.52 0-1.04.2-1.43.59L10.3 9.45l-7.72 7.72c-.78.78-.78 2.05 0 2.83L4 21.41c.39.39.9.59 1.41.59.51 0 1.02-.2 1.41-.59l7.78-7.78 2.81-2.81c.8-.78.8-2.07 0-2.86zM5.41 20L4 18.59l7.72-7.72 1.47 1.35L5.41 20z\"/>\n",
              "  </svg>\n",
              "      </button>\n",
              "      \n",
              "  <style>\n",
              "    .colab-df-container {\n",
              "      display:flex;\n",
              "      flex-wrap:wrap;\n",
              "      gap: 12px;\n",
              "    }\n",
              "\n",
              "    .colab-df-convert {\n",
              "      background-color: #E8F0FE;\n",
              "      border: none;\n",
              "      border-radius: 50%;\n",
              "      cursor: pointer;\n",
              "      display: none;\n",
              "      fill: #1967D2;\n",
              "      height: 32px;\n",
              "      padding: 0 0 0 0;\n",
              "      width: 32px;\n",
              "    }\n",
              "\n",
              "    .colab-df-convert:hover {\n",
              "      background-color: #E2EBFA;\n",
              "      box-shadow: 0px 1px 2px rgba(60, 64, 67, 0.3), 0px 1px 3px 1px rgba(60, 64, 67, 0.15);\n",
              "      fill: #174EA6;\n",
              "    }\n",
              "\n",
              "    [theme=dark] .colab-df-convert {\n",
              "      background-color: #3B4455;\n",
              "      fill: #D2E3FC;\n",
              "    }\n",
              "\n",
              "    [theme=dark] .colab-df-convert:hover {\n",
              "      background-color: #434B5C;\n",
              "      box-shadow: 0px 1px 3px 1px rgba(0, 0, 0, 0.15);\n",
              "      filter: drop-shadow(0px 1px 2px rgba(0, 0, 0, 0.3));\n",
              "      fill: #FFFFFF;\n",
              "    }\n",
              "  </style>\n",
              "\n",
              "      <script>\n",
              "        const buttonEl =\n",
              "          document.querySelector('#df-9ded1925-e5e3-411e-b3d9-f40aaa2426d2 button.colab-df-convert');\n",
              "        buttonEl.style.display =\n",
              "          google.colab.kernel.accessAllowed ? 'block' : 'none';\n",
              "\n",
              "        async function convertToInteractive(key) {\n",
              "          const element = document.querySelector('#df-9ded1925-e5e3-411e-b3d9-f40aaa2426d2');\n",
              "          const dataTable =\n",
              "            await google.colab.kernel.invokeFunction('convertToInteractive',\n",
              "                                                     [key], {});\n",
              "          if (!dataTable) return;\n",
              "\n",
              "          const docLinkHtml = 'Like what you see? Visit the ' +\n",
              "            '<a target=\"_blank\" href=https://colab.research.google.com/notebooks/data_table.ipynb>data table notebook</a>'\n",
              "            + ' to learn more about interactive tables.';\n",
              "          element.innerHTML = '';\n",
              "          dataTable['output_type'] = 'display_data';\n",
              "          await google.colab.output.renderOutput(dataTable, element);\n",
              "          const docLink = document.createElement('div');\n",
              "          docLink.innerHTML = docLinkHtml;\n",
              "          element.appendChild(docLink);\n",
              "        }\n",
              "      </script>\n",
              "    </div>\n",
              "  </div>\n",
              "  "
            ],
            "text/plain": [
              "         Date      Time  Last First  Hydration Level Hydration Label\n",
              "0  2020-07-26  02:49:00  Agin  Emma                1  Hyper Hydrated\n",
              "1  2020-07-25  03:42:00  Agin  Emma                1  Hyper Hydrated\n",
              "2  2020-07-23  14:19:00  Agin  Emma                2   Well Hydrated"
            ]
          },
          "metadata": {},
          "execution_count": 5
        }
      ]
    },
    {
      "cell_type": "code",
      "source": [
        "hydration.shape"
      ],
      "metadata": {
        "colab": {
          "base_uri": "https://localhost:8080/"
        },
        "id": "SC3JpmF1yvYb",
        "outputId": "01466821-2454-4d38-e705-0fe171a85f81"
      },
      "execution_count": 21,
      "outputs": [
        {
          "output_type": "execute_result",
          "data": {
            "text/plain": [
              "(1256, 6)"
            ]
          },
          "metadata": {},
          "execution_count": 21
        }
      ]
    },
    {
      "cell_type": "code",
      "source": [
        "hydration['Date'].unique().shape"
      ],
      "metadata": {
        "colab": {
          "base_uri": "https://localhost:8080/"
        },
        "id": "jTmspyH50bmu",
        "outputId": "f1c0c1df-eabe-45b3-8bca-57eeeacd9b4e"
      },
      "execution_count": 26,
      "outputs": [
        {
          "output_type": "execute_result",
          "data": {
            "text/plain": [
              "(927,)"
            ]
          },
          "metadata": {},
          "execution_count": 26
        }
      ]
    },
    {
      "cell_type": "code",
      "source": [
        "import plotly.express as px\n",
        "fig = px.box(hydration, y=\"Hydration Level\")\n",
        "fig.show()"
      ],
      "metadata": {
        "colab": {
          "base_uri": "https://localhost:8080/",
          "height": 542
        },
        "id": "iOf4pRuZzMC8",
        "outputId": "fc2ba7d4-4e2e-4dcf-c3b5-ce2dc5351eb9"
      },
      "execution_count": 24,
      "outputs": [
        {
          "output_type": "display_data",
          "data": {
            "text/html": [
              "<html>\n",
              "<head><meta charset=\"utf-8\" /></head>\n",
              "<body>\n",
              "    <div>            <script src=\"https://cdnjs.cloudflare.com/ajax/libs/mathjax/2.7.5/MathJax.js?config=TeX-AMS-MML_SVG\"></script><script type=\"text/javascript\">if (window.MathJax) {MathJax.Hub.Config({SVG: {font: \"STIX-Web\"}});}</script>                <script type=\"text/javascript\">window.PlotlyConfig = {MathJaxConfig: 'local'};</script>\n",
              "        <script src=\"https://cdn.plot.ly/plotly-2.8.3.min.js\"></script>                <div id=\"0e75569e-6d50-4ce5-84ab-a964a0fcb962\" class=\"plotly-graph-div\" style=\"height:525px; width:100%;\"></div>            <script type=\"text/javascript\">                                    window.PLOTLYENV=window.PLOTLYENV || {};                                    if (document.getElementById(\"0e75569e-6d50-4ce5-84ab-a964a0fcb962\")) {                    Plotly.newPlot(                        \"0e75569e-6d50-4ce5-84ab-a964a0fcb962\",                        [{\"alignmentgroup\":\"True\",\"hovertemplate\":\"Hydration Level=%{y}<extra></extra>\",\"legendgroup\":\"\",\"marker\":{\"color\":\"#636efa\"},\"name\":\"\",\"notched\":false,\"offsetgroup\":\"\",\"orientation\":\"v\",\"showlegend\":false,\"x0\":\" \",\"xaxis\":\"x\",\"y\":[1,1,2,2,1,3,3,2,2,3,2,2,1,1,3,1,1,2,1,1,2,1,1,3,2,3,1,3,1,3,1,2,2,1,3,2,1,2,1,1,2,1,1,2,2,1,1,1,1,1,1,1,1,1,1,1,2,1,1,2,1,1,1,1,1,6,1,1,4,1,4,1,1,1,2,2,2,2,2,2,2,2,2,2,2,2,2,2,2,2,2,2,2,2,2,2,2,2,2,2,2,2,2,2,2,2,2,2,2,2,2,2,2,3,2,2,2,2,2,2,2,2,2,2,2,2,2,2,2,2,2,2,2,3,2,2,2,2,2,2,2,2,2,2,2,2,1,2,2,2,3,2,2,3,2,2,2,2,2,2,2,2,2,2,2,2,2,2,2,2,2,2,2,2,2,2,2,2,2,2,2,2,2,2,2,2,2,3,2,2,2,2,2,2,2,2,2,2,2,2,3,2,2,2,2,2,2,2,2,2,2,2,4,2,2,2,2,2,2,3,1,2,2,2,2,2,2,2,1,2,1,2,2,2,2,2,2,2,2,2,2,2,1,2,2,2,2,2,2,2,2,2,2,2,2,2,2,2,2,2,2,2,2,2,2,1,2,2,2,2,2,2,2,2,2,2,2,2,2,2,2,2,2,2,2,3,2,2,2,2,1,2,3,3,2,2,2,2,2,1,2,2,1,3,2,3,2,3,2,1,2,2,3,2,3,2,2,3,2,2,4,2,4,2,2,1,3,4,2,2,2,3,3,2,4,2,2,3,3,2,3,2,2,2,3,2,3,2,3,2,2,2,2,2,2,2,4,2,2,1,2,1,2,2,3,4,1,2,2,2,2,2,1,2,2,4,2,3,4,2,3,2,1,3,3,2,1,2,1,4,2,3,6,2,2,4,3,6,3,7,6,1,7,2,7,2,8,3,7,2,4,1,7,3,7,3,7,4,7,3,7,3,7,3,2,8,4,8,8,7,5,5,1,7,6,6,3,1,3,7,2,6,1,3,1,2,5,6,5,6,7,3,1,1,7,1,5,1,6,6,4,7,1,6,4,4,3,1,5,1,1,1,1,1,1,1,1,1,1,1,1,1,1,1,1,1,1,1,1,1,1,1,1,1,1,1,1,1,1,1,1,1,1,1,1,1,1,1,1,1,1,1,1,1,1,1,1,1,1,1,1,1,1,1,1,1,1,1,1,1,1,1,1,1,1,1,1,1,1,1,1,1,1,1,1,1,1,1,1,1,1,1,1,1,1,1,1,1,1,1,1,1,1,1,1,1,1,1,1,1,1,1,1,1,1,2,2,2,2,2,2,2,2,2,2,2,1,2,2,2,2,2,2,2,2,2,2,2,2,2,2,2,2,2,2,2,2,2,2,2,2,2,2,2,2,2,4,1,1,2,1,2,2,1,1,2,2,1,2,2,2,2,4,2,1,2,2,1,1,2,2,1,1,4,2,1,2,2,2,4,2,2,1,3,3,4,2,1,3,3,2,3,1,3,3,2,3,2,1,3,2,1,3,3,1,1,2,3,3,1,2,3,4,1,2,4,2,3,3,2,2,4,2,1,2,1,3,2,1,1,3,2,3,2,3,2,2,3,2,3,2,2,3,2,1,3,1,2,1,2,3,2,3,2,2,3,2,2,2,2,3,1,3,2,1,3,4,2,2,3,1,2,1,2,2,2,2,1,2,2,3,2,3,2,1,1,2,2,1,1,2,3,1,1,2,3,2,4,1,4,2,1,4,2,2,3,3,1,1,2,2,3,2,3,1,4,1,2,1,1,2,2,2,3,2,4,1,3,4,1,4,2,1,1,2,2,2,3,2,3,3,2,1,2,2,2,2,2,2,1,3,2,2,2,2,2,2,3,1,3,3,3,3,2,2,4,2,4,4,3,3,1,3,4,2,2,2,2,6,3,2,3,3,3,2,3,3,2,2,4,4,6,3,4,4,2,4,4,4,3,5,3,3,4,6,3,1,3,2,1,3,4,3,1,3,3,1,3,3,1,4,3,2,2,2,3,2,2,2,1,1,3,2,3,3,3,2,3,3,3,3,3,3,3,2,3,2,2,2,3,3,3,3,3,3,3,3,3,3,3,3,3,3,2,3,3,3,3,3,3,4,3,3,3,3,3,3,3,3,3,3,3,3,3,3,3,3,3,3,3,3,3,3,3,2,2,3,3,3,4,3,2,3,2,3,3,3,3,3,3,3,4,3,1,3,3,3,2,2,1,3,1,1,3,1,2,3,3,3,3,2,3,3,2,2,3,3,3,3,2,2,2,3,2,3,2,3,3,3,1,2,2,3,3,2,2,1,3,2,3,3,2,3,3,2,1,1,1,1,3,2,1,3,1,1,3,1,1,3,1,3,1,2,3,2,2,1,2,1,2,5,1,3,1,3,1,2,3,2,2,2,2,3,1,3,2,3,2,2,3,2,2,3,3,2,3,2,2,2,3,2,3,3,4,2,2,3,2,1,3,4,2,2,2,2,2,2,2,2,2,2,3,2,2,2,3,2,3,2,3,3,2,2,2,2,2,2,4,3,2,4,2,4,1,1,1,8,1,8,3,1,1,1,2,1,1,2,1,1,1,1,1,1,1,1,2,1,2,1,1,1,1,1,1,1,1,1,1,1,1,2,1,2,1,2,2,2,2,2,2,2,2,2,2,2,2,2,2,2,2,2,2,2,2,2,2,2,2,2,2,2,2,2,2,2,2,2,2,1,1,1,1,2,1,2,3,2,3,2,3,2,3,2,3,2,3,2,3,2,2,3,3,2,2,2,2,2,2,2,2,2,2,2,2,2,2,2,1,3,2,2,2,3,3,3,3],\"y0\":\" \",\"yaxis\":\"y\",\"type\":\"box\"}],                        {\"template\":{\"data\":{\"bar\":[{\"error_x\":{\"color\":\"#2a3f5f\"},\"error_y\":{\"color\":\"#2a3f5f\"},\"marker\":{\"line\":{\"color\":\"#E5ECF6\",\"width\":0.5},\"pattern\":{\"fillmode\":\"overlay\",\"size\":10,\"solidity\":0.2}},\"type\":\"bar\"}],\"barpolar\":[{\"marker\":{\"line\":{\"color\":\"#E5ECF6\",\"width\":0.5},\"pattern\":{\"fillmode\":\"overlay\",\"size\":10,\"solidity\":0.2}},\"type\":\"barpolar\"}],\"carpet\":[{\"aaxis\":{\"endlinecolor\":\"#2a3f5f\",\"gridcolor\":\"white\",\"linecolor\":\"white\",\"minorgridcolor\":\"white\",\"startlinecolor\":\"#2a3f5f\"},\"baxis\":{\"endlinecolor\":\"#2a3f5f\",\"gridcolor\":\"white\",\"linecolor\":\"white\",\"minorgridcolor\":\"white\",\"startlinecolor\":\"#2a3f5f\"},\"type\":\"carpet\"}],\"choropleth\":[{\"colorbar\":{\"outlinewidth\":0,\"ticks\":\"\"},\"type\":\"choropleth\"}],\"contour\":[{\"colorbar\":{\"outlinewidth\":0,\"ticks\":\"\"},\"colorscale\":[[0.0,\"#0d0887\"],[0.1111111111111111,\"#46039f\"],[0.2222222222222222,\"#7201a8\"],[0.3333333333333333,\"#9c179e\"],[0.4444444444444444,\"#bd3786\"],[0.5555555555555556,\"#d8576b\"],[0.6666666666666666,\"#ed7953\"],[0.7777777777777778,\"#fb9f3a\"],[0.8888888888888888,\"#fdca26\"],[1.0,\"#f0f921\"]],\"type\":\"contour\"}],\"contourcarpet\":[{\"colorbar\":{\"outlinewidth\":0,\"ticks\":\"\"},\"type\":\"contourcarpet\"}],\"heatmap\":[{\"colorbar\":{\"outlinewidth\":0,\"ticks\":\"\"},\"colorscale\":[[0.0,\"#0d0887\"],[0.1111111111111111,\"#46039f\"],[0.2222222222222222,\"#7201a8\"],[0.3333333333333333,\"#9c179e\"],[0.4444444444444444,\"#bd3786\"],[0.5555555555555556,\"#d8576b\"],[0.6666666666666666,\"#ed7953\"],[0.7777777777777778,\"#fb9f3a\"],[0.8888888888888888,\"#fdca26\"],[1.0,\"#f0f921\"]],\"type\":\"heatmap\"}],\"heatmapgl\":[{\"colorbar\":{\"outlinewidth\":0,\"ticks\":\"\"},\"colorscale\":[[0.0,\"#0d0887\"],[0.1111111111111111,\"#46039f\"],[0.2222222222222222,\"#7201a8\"],[0.3333333333333333,\"#9c179e\"],[0.4444444444444444,\"#bd3786\"],[0.5555555555555556,\"#d8576b\"],[0.6666666666666666,\"#ed7953\"],[0.7777777777777778,\"#fb9f3a\"],[0.8888888888888888,\"#fdca26\"],[1.0,\"#f0f921\"]],\"type\":\"heatmapgl\"}],\"histogram\":[{\"marker\":{\"pattern\":{\"fillmode\":\"overlay\",\"size\":10,\"solidity\":0.2}},\"type\":\"histogram\"}],\"histogram2d\":[{\"colorbar\":{\"outlinewidth\":0,\"ticks\":\"\"},\"colorscale\":[[0.0,\"#0d0887\"],[0.1111111111111111,\"#46039f\"],[0.2222222222222222,\"#7201a8\"],[0.3333333333333333,\"#9c179e\"],[0.4444444444444444,\"#bd3786\"],[0.5555555555555556,\"#d8576b\"],[0.6666666666666666,\"#ed7953\"],[0.7777777777777778,\"#fb9f3a\"],[0.8888888888888888,\"#fdca26\"],[1.0,\"#f0f921\"]],\"type\":\"histogram2d\"}],\"histogram2dcontour\":[{\"colorbar\":{\"outlinewidth\":0,\"ticks\":\"\"},\"colorscale\":[[0.0,\"#0d0887\"],[0.1111111111111111,\"#46039f\"],[0.2222222222222222,\"#7201a8\"],[0.3333333333333333,\"#9c179e\"],[0.4444444444444444,\"#bd3786\"],[0.5555555555555556,\"#d8576b\"],[0.6666666666666666,\"#ed7953\"],[0.7777777777777778,\"#fb9f3a\"],[0.8888888888888888,\"#fdca26\"],[1.0,\"#f0f921\"]],\"type\":\"histogram2dcontour\"}],\"mesh3d\":[{\"colorbar\":{\"outlinewidth\":0,\"ticks\":\"\"},\"type\":\"mesh3d\"}],\"parcoords\":[{\"line\":{\"colorbar\":{\"outlinewidth\":0,\"ticks\":\"\"}},\"type\":\"parcoords\"}],\"pie\":[{\"automargin\":true,\"type\":\"pie\"}],\"scatter\":[{\"marker\":{\"colorbar\":{\"outlinewidth\":0,\"ticks\":\"\"}},\"type\":\"scatter\"}],\"scatter3d\":[{\"line\":{\"colorbar\":{\"outlinewidth\":0,\"ticks\":\"\"}},\"marker\":{\"colorbar\":{\"outlinewidth\":0,\"ticks\":\"\"}},\"type\":\"scatter3d\"}],\"scattercarpet\":[{\"marker\":{\"colorbar\":{\"outlinewidth\":0,\"ticks\":\"\"}},\"type\":\"scattercarpet\"}],\"scattergeo\":[{\"marker\":{\"colorbar\":{\"outlinewidth\":0,\"ticks\":\"\"}},\"type\":\"scattergeo\"}],\"scattergl\":[{\"marker\":{\"colorbar\":{\"outlinewidth\":0,\"ticks\":\"\"}},\"type\":\"scattergl\"}],\"scattermapbox\":[{\"marker\":{\"colorbar\":{\"outlinewidth\":0,\"ticks\":\"\"}},\"type\":\"scattermapbox\"}],\"scatterpolar\":[{\"marker\":{\"colorbar\":{\"outlinewidth\":0,\"ticks\":\"\"}},\"type\":\"scatterpolar\"}],\"scatterpolargl\":[{\"marker\":{\"colorbar\":{\"outlinewidth\":0,\"ticks\":\"\"}},\"type\":\"scatterpolargl\"}],\"scatterternary\":[{\"marker\":{\"colorbar\":{\"outlinewidth\":0,\"ticks\":\"\"}},\"type\":\"scatterternary\"}],\"surface\":[{\"colorbar\":{\"outlinewidth\":0,\"ticks\":\"\"},\"colorscale\":[[0.0,\"#0d0887\"],[0.1111111111111111,\"#46039f\"],[0.2222222222222222,\"#7201a8\"],[0.3333333333333333,\"#9c179e\"],[0.4444444444444444,\"#bd3786\"],[0.5555555555555556,\"#d8576b\"],[0.6666666666666666,\"#ed7953\"],[0.7777777777777778,\"#fb9f3a\"],[0.8888888888888888,\"#fdca26\"],[1.0,\"#f0f921\"]],\"type\":\"surface\"}],\"table\":[{\"cells\":{\"fill\":{\"color\":\"#EBF0F8\"},\"line\":{\"color\":\"white\"}},\"header\":{\"fill\":{\"color\":\"#C8D4E3\"},\"line\":{\"color\":\"white\"}},\"type\":\"table\"}]},\"layout\":{\"annotationdefaults\":{\"arrowcolor\":\"#2a3f5f\",\"arrowhead\":0,\"arrowwidth\":1},\"autotypenumbers\":\"strict\",\"coloraxis\":{\"colorbar\":{\"outlinewidth\":0,\"ticks\":\"\"}},\"colorscale\":{\"diverging\":[[0,\"#8e0152\"],[0.1,\"#c51b7d\"],[0.2,\"#de77ae\"],[0.3,\"#f1b6da\"],[0.4,\"#fde0ef\"],[0.5,\"#f7f7f7\"],[0.6,\"#e6f5d0\"],[0.7,\"#b8e186\"],[0.8,\"#7fbc41\"],[0.9,\"#4d9221\"],[1,\"#276419\"]],\"sequential\":[[0.0,\"#0d0887\"],[0.1111111111111111,\"#46039f\"],[0.2222222222222222,\"#7201a8\"],[0.3333333333333333,\"#9c179e\"],[0.4444444444444444,\"#bd3786\"],[0.5555555555555556,\"#d8576b\"],[0.6666666666666666,\"#ed7953\"],[0.7777777777777778,\"#fb9f3a\"],[0.8888888888888888,\"#fdca26\"],[1.0,\"#f0f921\"]],\"sequentialminus\":[[0.0,\"#0d0887\"],[0.1111111111111111,\"#46039f\"],[0.2222222222222222,\"#7201a8\"],[0.3333333333333333,\"#9c179e\"],[0.4444444444444444,\"#bd3786\"],[0.5555555555555556,\"#d8576b\"],[0.6666666666666666,\"#ed7953\"],[0.7777777777777778,\"#fb9f3a\"],[0.8888888888888888,\"#fdca26\"],[1.0,\"#f0f921\"]]},\"colorway\":[\"#636efa\",\"#EF553B\",\"#00cc96\",\"#ab63fa\",\"#FFA15A\",\"#19d3f3\",\"#FF6692\",\"#B6E880\",\"#FF97FF\",\"#FECB52\"],\"font\":{\"color\":\"#2a3f5f\"},\"geo\":{\"bgcolor\":\"white\",\"lakecolor\":\"white\",\"landcolor\":\"#E5ECF6\",\"showlakes\":true,\"showland\":true,\"subunitcolor\":\"white\"},\"hoverlabel\":{\"align\":\"left\"},\"hovermode\":\"closest\",\"mapbox\":{\"style\":\"light\"},\"paper_bgcolor\":\"white\",\"plot_bgcolor\":\"#E5ECF6\",\"polar\":{\"angularaxis\":{\"gridcolor\":\"white\",\"linecolor\":\"white\",\"ticks\":\"\"},\"bgcolor\":\"#E5ECF6\",\"radialaxis\":{\"gridcolor\":\"white\",\"linecolor\":\"white\",\"ticks\":\"\"}},\"scene\":{\"xaxis\":{\"backgroundcolor\":\"#E5ECF6\",\"gridcolor\":\"white\",\"gridwidth\":2,\"linecolor\":\"white\",\"showbackground\":true,\"ticks\":\"\",\"zerolinecolor\":\"white\"},\"yaxis\":{\"backgroundcolor\":\"#E5ECF6\",\"gridcolor\":\"white\",\"gridwidth\":2,\"linecolor\":\"white\",\"showbackground\":true,\"ticks\":\"\",\"zerolinecolor\":\"white\"},\"zaxis\":{\"backgroundcolor\":\"#E5ECF6\",\"gridcolor\":\"white\",\"gridwidth\":2,\"linecolor\":\"white\",\"showbackground\":true,\"ticks\":\"\",\"zerolinecolor\":\"white\"}},\"shapedefaults\":{\"line\":{\"color\":\"#2a3f5f\"}},\"ternary\":{\"aaxis\":{\"gridcolor\":\"white\",\"linecolor\":\"white\",\"ticks\":\"\"},\"baxis\":{\"gridcolor\":\"white\",\"linecolor\":\"white\",\"ticks\":\"\"},\"bgcolor\":\"#E5ECF6\",\"caxis\":{\"gridcolor\":\"white\",\"linecolor\":\"white\",\"ticks\":\"\"}},\"title\":{\"x\":0.05},\"xaxis\":{\"automargin\":true,\"gridcolor\":\"white\",\"linecolor\":\"white\",\"ticks\":\"\",\"title\":{\"standoff\":15},\"zerolinecolor\":\"white\",\"zerolinewidth\":2},\"yaxis\":{\"automargin\":true,\"gridcolor\":\"white\",\"linecolor\":\"white\",\"ticks\":\"\",\"title\":{\"standoff\":15},\"zerolinecolor\":\"white\",\"zerolinewidth\":2}}},\"xaxis\":{\"anchor\":\"y\",\"domain\":[0.0,1.0]},\"yaxis\":{\"anchor\":\"x\",\"domain\":[0.0,1.0],\"title\":{\"text\":\"Hydration Level\"}},\"legend\":{\"tracegroupgap\":0},\"margin\":{\"t\":60},\"boxmode\":\"group\"},                        {\"responsive\": true}                    ).then(function(){\n",
              "                            \n",
              "var gd = document.getElementById('0e75569e-6d50-4ce5-84ab-a964a0fcb962');\n",
              "var x = new MutationObserver(function (mutations, observer) {{\n",
              "        var display = window.getComputedStyle(gd).display;\n",
              "        if (!display || display === 'none') {{\n",
              "            console.log([gd, 'removed!']);\n",
              "            Plotly.purge(gd);\n",
              "            observer.disconnect();\n",
              "        }}\n",
              "}});\n",
              "\n",
              "// Listen for the removal of the full notebook cells\n",
              "var notebookContainer = gd.closest('#notebook-container');\n",
              "if (notebookContainer) {{\n",
              "    x.observe(notebookContainer, {childList: true});\n",
              "}}\n",
              "\n",
              "// Listen for the clearing of the current output cell\n",
              "var outputEl = gd.closest('.output');\n",
              "if (outputEl) {{\n",
              "    x.observe(outputEl, {childList: true});\n",
              "}}\n",
              "\n",
              "                        })                };                            </script>        </div>\n",
              "</body>\n",
              "</html>"
            ]
          },
          "metadata": {}
        }
      ]
    },
    {
      "cell_type": "code",
      "source": [
        "notes.head(3)"
      ],
      "metadata": {
        "colab": {
          "base_uri": "https://localhost:8080/",
          "height": 143
        },
        "id": "X_SBkqIQwO-1",
        "outputId": "e991eccd-6f44-4343-958f-16cee9c3efcd"
      },
      "execution_count": 6,
      "outputs": [
        {
          "output_type": "execute_result",
          "data": {
            "text/html": [
              "\n",
              "  <div id=\"df-c644d19c-049e-4579-ab83-df337ca01b5c\">\n",
              "    <div class=\"colab-df-container\">\n",
              "      <div>\n",
              "<style scoped>\n",
              "    .dataframe tbody tr th:only-of-type {\n",
              "        vertical-align: middle;\n",
              "    }\n",
              "\n",
              "    .dataframe tbody tr th {\n",
              "        vertical-align: top;\n",
              "    }\n",
              "\n",
              "    .dataframe thead th {\n",
              "        text-align: right;\n",
              "    }\n",
              "</style>\n",
              "<table border=\"1\" class=\"dataframe\">\n",
              "  <thead>\n",
              "    <tr style=\"text-align: right;\">\n",
              "      <th></th>\n",
              "      <th>Date</th>\n",
              "      <th>Time</th>\n",
              "      <th>Last</th>\n",
              "      <th>First</th>\n",
              "      <th>Category</th>\n",
              "      <th>Content</th>\n",
              "    </tr>\n",
              "  </thead>\n",
              "  <tbody>\n",
              "    <tr>\n",
              "      <th>0</th>\n",
              "      <td>2020-06-26</td>\n",
              "      <td>02:46:00</td>\n",
              "      <td>Lewis</td>\n",
              "      <td>Olivia</td>\n",
              "      <td>general</td>\n",
              "      <td>Wisdom Teeth Recovery</td>\n",
              "    </tr>\n",
              "    <tr>\n",
              "      <th>1</th>\n",
              "      <td>2020-06-24</td>\n",
              "      <td>19:17:00</td>\n",
              "      <td>Lewis</td>\n",
              "      <td>Olivia</td>\n",
              "      <td>general</td>\n",
              "      <td>Wisdom Teeth Recovery</td>\n",
              "    </tr>\n",
              "    <tr>\n",
              "      <th>2</th>\n",
              "      <td>2020-06-24</td>\n",
              "      <td>17:59:00</td>\n",
              "      <td>Olsson</td>\n",
              "      <td>Mallory</td>\n",
              "      <td>general</td>\n",
              "      <td>Sore/overstrained right glute. Been resting fo...</td>\n",
              "    </tr>\n",
              "  </tbody>\n",
              "</table>\n",
              "</div>\n",
              "      <button class=\"colab-df-convert\" onclick=\"convertToInteractive('df-c644d19c-049e-4579-ab83-df337ca01b5c')\"\n",
              "              title=\"Convert this dataframe to an interactive table.\"\n",
              "              style=\"display:none;\">\n",
              "        \n",
              "  <svg xmlns=\"http://www.w3.org/2000/svg\" height=\"24px\"viewBox=\"0 0 24 24\"\n",
              "       width=\"24px\">\n",
              "    <path d=\"M0 0h24v24H0V0z\" fill=\"none\"/>\n",
              "    <path d=\"M18.56 5.44l.94 2.06.94-2.06 2.06-.94-2.06-.94-.94-2.06-.94 2.06-2.06.94zm-11 1L8.5 8.5l.94-2.06 2.06-.94-2.06-.94L8.5 2.5l-.94 2.06-2.06.94zm10 10l.94 2.06.94-2.06 2.06-.94-2.06-.94-.94-2.06-.94 2.06-2.06.94z\"/><path d=\"M17.41 7.96l-1.37-1.37c-.4-.4-.92-.59-1.43-.59-.52 0-1.04.2-1.43.59L10.3 9.45l-7.72 7.72c-.78.78-.78 2.05 0 2.83L4 21.41c.39.39.9.59 1.41.59.51 0 1.02-.2 1.41-.59l7.78-7.78 2.81-2.81c.8-.78.8-2.07 0-2.86zM5.41 20L4 18.59l7.72-7.72 1.47 1.35L5.41 20z\"/>\n",
              "  </svg>\n",
              "      </button>\n",
              "      \n",
              "  <style>\n",
              "    .colab-df-container {\n",
              "      display:flex;\n",
              "      flex-wrap:wrap;\n",
              "      gap: 12px;\n",
              "    }\n",
              "\n",
              "    .colab-df-convert {\n",
              "      background-color: #E8F0FE;\n",
              "      border: none;\n",
              "      border-radius: 50%;\n",
              "      cursor: pointer;\n",
              "      display: none;\n",
              "      fill: #1967D2;\n",
              "      height: 32px;\n",
              "      padding: 0 0 0 0;\n",
              "      width: 32px;\n",
              "    }\n",
              "\n",
              "    .colab-df-convert:hover {\n",
              "      background-color: #E2EBFA;\n",
              "      box-shadow: 0px 1px 2px rgba(60, 64, 67, 0.3), 0px 1px 3px 1px rgba(60, 64, 67, 0.15);\n",
              "      fill: #174EA6;\n",
              "    }\n",
              "\n",
              "    [theme=dark] .colab-df-convert {\n",
              "      background-color: #3B4455;\n",
              "      fill: #D2E3FC;\n",
              "    }\n",
              "\n",
              "    [theme=dark] .colab-df-convert:hover {\n",
              "      background-color: #434B5C;\n",
              "      box-shadow: 0px 1px 3px 1px rgba(0, 0, 0, 0.15);\n",
              "      filter: drop-shadow(0px 1px 2px rgba(0, 0, 0, 0.3));\n",
              "      fill: #FFFFFF;\n",
              "    }\n",
              "  </style>\n",
              "\n",
              "      <script>\n",
              "        const buttonEl =\n",
              "          document.querySelector('#df-c644d19c-049e-4579-ab83-df337ca01b5c button.colab-df-convert');\n",
              "        buttonEl.style.display =\n",
              "          google.colab.kernel.accessAllowed ? 'block' : 'none';\n",
              "\n",
              "        async function convertToInteractive(key) {\n",
              "          const element = document.querySelector('#df-c644d19c-049e-4579-ab83-df337ca01b5c');\n",
              "          const dataTable =\n",
              "            await google.colab.kernel.invokeFunction('convertToInteractive',\n",
              "                                                     [key], {});\n",
              "          if (!dataTable) return;\n",
              "\n",
              "          const docLinkHtml = 'Like what you see? Visit the ' +\n",
              "            '<a target=\"_blank\" href=https://colab.research.google.com/notebooks/data_table.ipynb>data table notebook</a>'\n",
              "            + ' to learn more about interactive tables.';\n",
              "          element.innerHTML = '';\n",
              "          dataTable['output_type'] = 'display_data';\n",
              "          await google.colab.output.renderOutput(dataTable, element);\n",
              "          const docLink = document.createElement('div');\n",
              "          docLink.innerHTML = docLinkHtml;\n",
              "          element.appendChild(docLink);\n",
              "        }\n",
              "      </script>\n",
              "    </div>\n",
              "  </div>\n",
              "  "
            ],
            "text/plain": [
              "         Date      Time    Last    First Category  \\\n",
              "0  2020-06-26  02:46:00   Lewis   Olivia  general   \n",
              "1  2020-06-24  19:17:00   Lewis   Olivia  general   \n",
              "2  2020-06-24  17:59:00  Olsson  Mallory  general   \n",
              "\n",
              "                                             Content  \n",
              "0                              Wisdom Teeth Recovery  \n",
              "1                              Wisdom Teeth Recovery  \n",
              "2  Sore/overstrained right glute. Been resting fo...  "
            ]
          },
          "metadata": {},
          "execution_count": 6
        }
      ]
    },
    {
      "cell_type": "code",
      "source": [
        "polar_data.head(3)"
      ],
      "metadata": {
        "colab": {
          "base_uri": "https://localhost:8080/",
          "height": 341
        },
        "id": "HSwBh1CPxELi",
        "outputId": "05eaf77f-0948-4be3-e134-f5ee33698be8"
      },
      "execution_count": 7,
      "outputs": [
        {
          "output_type": "execute_result",
          "data": {
            "text/html": [
              "\n",
              "  <div id=\"df-01ce733c-ceaf-440b-8a5b-a7a823013f99\">\n",
              "    <div class=\"colab-df-container\">\n",
              "      <div>\n",
              "<style scoped>\n",
              "    .dataframe tbody tr th:only-of-type {\n",
              "        vertical-align: middle;\n",
              "    }\n",
              "\n",
              "    .dataframe tbody tr th {\n",
              "        vertical-align: top;\n",
              "    }\n",
              "\n",
              "    .dataframe thead th {\n",
              "        text-align: right;\n",
              "    }\n",
              "</style>\n",
              "<table border=\"1\" class=\"dataframe\">\n",
              "  <thead>\n",
              "    <tr style=\"text-align: right;\">\n",
              "      <th></th>\n",
              "      <th>player_number</th>\n",
              "      <th>player_name</th>\n",
              "      <th>session_name</th>\n",
              "      <th>session_type</th>\n",
              "      <th>phase_name</th>\n",
              "      <th>duration</th>\n",
              "      <th>start_time</th>\n",
              "      <th>end_time</th>\n",
              "      <th>hr_min</th>\n",
              "      <th>hr_avg</th>\n",
              "      <th>...</th>\n",
              "      <th>num_acc_n1p99_n1</th>\n",
              "      <th>num_acc_np99_np5</th>\n",
              "      <th>num_acc_p5_p99</th>\n",
              "      <th>num_acc_1_1p99</th>\n",
              "      <th>num_acc_2_2p99</th>\n",
              "      <th>num_acc_3_50</th>\n",
              "      <th>calories</th>\n",
              "      <th>training_load_score</th>\n",
              "      <th>recovery_time</th>\n",
              "      <th>cardio_load</th>\n",
              "    </tr>\n",
              "  </thead>\n",
              "  <tbody>\n",
              "    <tr>\n",
              "      <th>0</th>\n",
              "      <td>18</td>\n",
              "      <td>Jade Barkett</td>\n",
              "      <td>None</td>\n",
              "      <td>Training</td>\n",
              "      <td>Whole session</td>\n",
              "      <td>02:05:27</td>\n",
              "      <td>13-02-2020 13:43:29</td>\n",
              "      <td>13-02-2020 15:48:56</td>\n",
              "      <td>66</td>\n",
              "      <td>131</td>\n",
              "      <td>...</td>\n",
              "      <td>225</td>\n",
              "      <td>473</td>\n",
              "      <td>365</td>\n",
              "      <td>229</td>\n",
              "      <td>36</td>\n",
              "      <td>7</td>\n",
              "      <td>778</td>\n",
              "      <td>113</td>\n",
              "      <td>15.1</td>\n",
              "      <td>NaN</td>\n",
              "    </tr>\n",
              "    <tr>\n",
              "      <th>1</th>\n",
              "      <td>24</td>\n",
              "      <td>Emma Agin</td>\n",
              "      <td>NaN</td>\n",
              "      <td>Training</td>\n",
              "      <td>Whole session</td>\n",
              "      <td>01:31:45</td>\n",
              "      <td>05-02-2021 14:28:14</td>\n",
              "      <td>05-02-2021 15:59:59</td>\n",
              "      <td>113</td>\n",
              "      <td>166</td>\n",
              "      <td>...</td>\n",
              "      <td>256</td>\n",
              "      <td>345</td>\n",
              "      <td>369</td>\n",
              "      <td>196</td>\n",
              "      <td>68</td>\n",
              "      <td>17</td>\n",
              "      <td>626</td>\n",
              "      <td>117</td>\n",
              "      <td>10.4</td>\n",
              "      <td>NaN</td>\n",
              "    </tr>\n",
              "    <tr>\n",
              "      <th>2</th>\n",
              "      <td>18</td>\n",
              "      <td>Jade Barkett</td>\n",
              "      <td>NaN</td>\n",
              "      <td>Training</td>\n",
              "      <td>Whole session</td>\n",
              "      <td>01:31:45</td>\n",
              "      <td>05-02-2021 14:28:14</td>\n",
              "      <td>05-02-2021 15:59:59</td>\n",
              "      <td>88</td>\n",
              "      <td>141</td>\n",
              "      <td>...</td>\n",
              "      <td>245</td>\n",
              "      <td>415</td>\n",
              "      <td>319</td>\n",
              "      <td>248</td>\n",
              "      <td>76</td>\n",
              "      <td>10</td>\n",
              "      <td>600</td>\n",
              "      <td>89</td>\n",
              "      <td>9.0</td>\n",
              "      <td>NaN</td>\n",
              "    </tr>\n",
              "  </tbody>\n",
              "</table>\n",
              "<p>3 rows × 41 columns</p>\n",
              "</div>\n",
              "      <button class=\"colab-df-convert\" onclick=\"convertToInteractive('df-01ce733c-ceaf-440b-8a5b-a7a823013f99')\"\n",
              "              title=\"Convert this dataframe to an interactive table.\"\n",
              "              style=\"display:none;\">\n",
              "        \n",
              "  <svg xmlns=\"http://www.w3.org/2000/svg\" height=\"24px\"viewBox=\"0 0 24 24\"\n",
              "       width=\"24px\">\n",
              "    <path d=\"M0 0h24v24H0V0z\" fill=\"none\"/>\n",
              "    <path d=\"M18.56 5.44l.94 2.06.94-2.06 2.06-.94-2.06-.94-.94-2.06-.94 2.06-2.06.94zm-11 1L8.5 8.5l.94-2.06 2.06-.94-2.06-.94L8.5 2.5l-.94 2.06-2.06.94zm10 10l.94 2.06.94-2.06 2.06-.94-2.06-.94-.94-2.06-.94 2.06-2.06.94z\"/><path d=\"M17.41 7.96l-1.37-1.37c-.4-.4-.92-.59-1.43-.59-.52 0-1.04.2-1.43.59L10.3 9.45l-7.72 7.72c-.78.78-.78 2.05 0 2.83L4 21.41c.39.39.9.59 1.41.59.51 0 1.02-.2 1.41-.59l7.78-7.78 2.81-2.81c.8-.78.8-2.07 0-2.86zM5.41 20L4 18.59l7.72-7.72 1.47 1.35L5.41 20z\"/>\n",
              "  </svg>\n",
              "      </button>\n",
              "      \n",
              "  <style>\n",
              "    .colab-df-container {\n",
              "      display:flex;\n",
              "      flex-wrap:wrap;\n",
              "      gap: 12px;\n",
              "    }\n",
              "\n",
              "    .colab-df-convert {\n",
              "      background-color: #E8F0FE;\n",
              "      border: none;\n",
              "      border-radius: 50%;\n",
              "      cursor: pointer;\n",
              "      display: none;\n",
              "      fill: #1967D2;\n",
              "      height: 32px;\n",
              "      padding: 0 0 0 0;\n",
              "      width: 32px;\n",
              "    }\n",
              "\n",
              "    .colab-df-convert:hover {\n",
              "      background-color: #E2EBFA;\n",
              "      box-shadow: 0px 1px 2px rgba(60, 64, 67, 0.3), 0px 1px 3px 1px rgba(60, 64, 67, 0.15);\n",
              "      fill: #174EA6;\n",
              "    }\n",
              "\n",
              "    [theme=dark] .colab-df-convert {\n",
              "      background-color: #3B4455;\n",
              "      fill: #D2E3FC;\n",
              "    }\n",
              "\n",
              "    [theme=dark] .colab-df-convert:hover {\n",
              "      background-color: #434B5C;\n",
              "      box-shadow: 0px 1px 3px 1px rgba(0, 0, 0, 0.15);\n",
              "      filter: drop-shadow(0px 1px 2px rgba(0, 0, 0, 0.3));\n",
              "      fill: #FFFFFF;\n",
              "    }\n",
              "  </style>\n",
              "\n",
              "      <script>\n",
              "        const buttonEl =\n",
              "          document.querySelector('#df-01ce733c-ceaf-440b-8a5b-a7a823013f99 button.colab-df-convert');\n",
              "        buttonEl.style.display =\n",
              "          google.colab.kernel.accessAllowed ? 'block' : 'none';\n",
              "\n",
              "        async function convertToInteractive(key) {\n",
              "          const element = document.querySelector('#df-01ce733c-ceaf-440b-8a5b-a7a823013f99');\n",
              "          const dataTable =\n",
              "            await google.colab.kernel.invokeFunction('convertToInteractive',\n",
              "                                                     [key], {});\n",
              "          if (!dataTable) return;\n",
              "\n",
              "          const docLinkHtml = 'Like what you see? Visit the ' +\n",
              "            '<a target=\"_blank\" href=https://colab.research.google.com/notebooks/data_table.ipynb>data table notebook</a>'\n",
              "            + ' to learn more about interactive tables.';\n",
              "          element.innerHTML = '';\n",
              "          dataTable['output_type'] = 'display_data';\n",
              "          await google.colab.output.renderOutput(dataTable, element);\n",
              "          const docLink = document.createElement('div');\n",
              "          docLink.innerHTML = docLinkHtml;\n",
              "          element.appendChild(docLink);\n",
              "        }\n",
              "      </script>\n",
              "    </div>\n",
              "  </div>\n",
              "  "
            ],
            "text/plain": [
              "   player_number   player_name session_name session_type     phase_name  \\\n",
              "0             18  Jade Barkett         None     Training  Whole session   \n",
              "1             24     Emma Agin          NaN     Training  Whole session   \n",
              "2             18  Jade Barkett          NaN     Training  Whole session   \n",
              "\n",
              "   duration           start_time             end_time  hr_min  hr_avg  ...  \\\n",
              "0  02:05:27  13-02-2020 13:43:29  13-02-2020 15:48:56      66     131  ...   \n",
              "1  01:31:45  05-02-2021 14:28:14  05-02-2021 15:59:59     113     166  ...   \n",
              "2  01:31:45  05-02-2021 14:28:14  05-02-2021 15:59:59      88     141  ...   \n",
              "\n",
              "   num_acc_n1p99_n1  num_acc_np99_np5  num_acc_p5_p99  num_acc_1_1p99  \\\n",
              "0               225               473             365             229   \n",
              "1               256               345             369             196   \n",
              "2               245               415             319             248   \n",
              "\n",
              "  num_acc_2_2p99 num_acc_3_50 calories training_load_score recovery_time  \\\n",
              "0             36            7      778                 113          15.1   \n",
              "1             68           17      626                 117          10.4   \n",
              "2             76           10      600                  89           9.0   \n",
              "\n",
              "   cardio_load  \n",
              "0          NaN  \n",
              "1          NaN  \n",
              "2          NaN  \n",
              "\n",
              "[3 rows x 41 columns]"
            ]
          },
          "metadata": {},
          "execution_count": 7
        }
      ]
    },
    {
      "cell_type": "code",
      "source": [
        "polar_data.shape"
      ],
      "metadata": {
        "colab": {
          "base_uri": "https://localhost:8080/"
        },
        "id": "3udWvIw_0ta9",
        "outputId": "02434982-d962-46bb-bb74-479c8a1cf0a1"
      },
      "execution_count": 28,
      "outputs": [
        {
          "output_type": "execute_result",
          "data": {
            "text/plain": [
              "(28608, 41)"
            ]
          },
          "metadata": {},
          "execution_count": 28
        }
      ]
    },
    {
      "cell_type": "code",
      "source": [
        "num_whole = 0\n",
        "for a in polar_data['phase_name']:\n",
        "  if (a == 'Whole session'):\n",
        "    num_whole = num_whole + 1\n",
        "\n",
        "print(num_whole)"
      ],
      "metadata": {
        "colab": {
          "base_uri": "https://localhost:8080/"
        },
        "id": "zJPbzGOY0xhh",
        "outputId": "eaf412a0-88ac-4299-dbb0-592d6e2abc49"
      },
      "execution_count": 53,
      "outputs": [
        {
          "output_type": "stream",
          "name": "stdout",
          "text": [
            "10495\n"
          ]
        }
      ]
    },
    {
      "cell_type": "code",
      "source": [
        "polar_data['session_type'].value_counts()"
      ],
      "metadata": {
        "colab": {
          "base_uri": "https://localhost:8080/"
        },
        "id": "bWgnsAxz426n",
        "outputId": "a4d0a23f-18f0-41e3-f476-bd944166882c"
      },
      "execution_count": 57,
      "outputs": [
        {
          "output_type": "execute_result",
          "data": {
            "text/plain": [
              "Training                     26144\n",
              "Game                          1676\n",
              "Match                          324\n",
              "Strength and conditioning      300\n",
              "Other                          149\n",
              "Test                            15\n",
              "Name: session_type, dtype: int64"
            ]
          },
          "metadata": {},
          "execution_count": 57
        }
      ]
    },
    {
      "cell_type": "code",
      "source": [
        ""
      ],
      "metadata": {
        "id": "4StbaPX147UW"
      },
      "execution_count": null,
      "outputs": []
    }
  ]
}